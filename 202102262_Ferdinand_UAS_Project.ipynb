{
 "cells": [
  {
   "cell_type": "code",
   "execution_count": 10,
   "id": "13119ef3",
   "metadata": {},
   "outputs": [
    {
     "name": "stdout",
     "output_type": "stream",
     "text": [
      "Panjang : 10\n",
      "Lebar : 10\n",
      "\n",
      "Hasil dari Perhitungan Persegi Panjang tersebut:\n",
      "Keliling :  40\n",
      "Luas     :  100\n"
     ]
    }
   ],
   "source": [
    "def panjang():\n",
    "    pjg = int(input(\"Panjang : \"))\n",
    "    return pjg\n",
    "def lebar():\n",
    "    lbr = int(input(\"Lebar : \"))\n",
    "    return lbr\n",
    "\n",
    "def persegi(pjg, lbr):\n",
    "    keliling = (2*pjg) + (2*lbr)\n",
    "    luas = (pjg * lbr)\n",
    "    print(\"\\nHasil dari Perhitungan Persegi Panjang tersebut:\")\n",
    "    print(\"Keliling : \", keliling)\n",
    "    print(\"Luas     : \", luas)\n",
    "    \n",
    "persegi(panjang(), lebar())"
   ]
  },
  {
   "cell_type": "code",
   "execution_count": 21,
   "id": "f1e99e2b",
   "metadata": {},
   "outputs": [
    {
     "name": "stdout",
     "output_type": "stream",
     "text": [
      "Masukkan Nama : dede\n",
      "Masukkan NIM   : de\n",
      "Masukkan Alamat : ed\n",
      "\n",
      "Nama   :  dede\n",
      "NIM    :  de\n",
      "Alamat :  ed\n"
     ]
    }
   ],
   "source": [
    "def nama():\n",
    "    nama_orang = input(\"Masukkan Nama : \")\n",
    "    return nama_orang\n",
    "def nim():\n",
    "    nim_orang = input(\"Masukkan NIM   : \")\n",
    "    return nim_orang\n",
    "def alamat():\n",
    "    alamat_orang = input(\"Masukkan Alamat : \")\n",
    "    return alamat_orang\n",
    "\n",
    "class data:\n",
    "    def __init__(self, nama_orang, nim_orang, alamat_orang):\n",
    "        self.nama_orang = nama_orang\n",
    "        self.nim_orang = nim_orang\n",
    "        self.alamat_orang = alamat_orang\n",
    "    def showData(self):\n",
    "        print(\"\\nNama   : \", self.nama_orang)\n",
    "        print(\"NIM    : \", self.nim_orang)\n",
    "        print(\"Alamat : \", self.alamat_orang)\n",
    "        \n",
    "data1 = data(nama(), nim(), alamat())\n",
    "\n",
    "data.showData(data1)"
   ]
  },
  {
   "cell_type": "code",
   "execution_count": 33,
   "id": "902ea99a",
   "metadata": {},
   "outputs": [
    {
     "name": "stdout",
     "output_type": "stream",
     "text": [
      "Masukkan Angka Pertama : 9\n",
      "Masukkan Angka Kedua   : 7\n",
      "\n",
      "Hasil Pertambahan :  16\n",
      "Hasil Pengurangan :  2\n",
      "Hasil Perkalian   :  63\n",
      "Hasil Pembagian   :  1.2857142857142858\n"
     ]
    }
   ],
   "source": [
    "class kalkulator:\n",
    "    def __init__(self, x, y):\n",
    "        self.x = x\n",
    "        self.y = y\n",
    "    def tambah(self):\n",
    "        return self.x + self.y\n",
    "    def kurang(self):\n",
    "        return self.x - self.y\n",
    "    def kali(self):\n",
    "        return self.x * self.y\n",
    "    def bagi(self):\n",
    "        return self.x / self.y\n",
    "    \n",
    "hasil = kalkulator(int(input(\"Masukkan Angka Pertama : \")),int(input(\"Masukkan Angka Kedua   : \")))\n",
    "\n",
    "result = hasil.tambah()\n",
    "print(\"\\nHasil Pertambahan : \", result)\n",
    "result = hasil.kurang()\n",
    "print(\"Hasil Pengurangan : \", result)\n",
    "result = hasil.kali()\n",
    "print(\"Hasil Perkalian   : \", result)\n",
    "result = hasil.bagi()\n",
    "print(\"Hasil Pembagian   : \", result)"
   ]
  },
  {
   "cell_type": "code",
   "execution_count": null,
   "id": "26c5b03d",
   "metadata": {},
   "outputs": [],
   "source": []
  }
 ],
 "metadata": {
  "kernelspec": {
   "display_name": "Python 3",
   "language": "python",
   "name": "python3"
  },
  "language_info": {
   "codemirror_mode": {
    "name": "ipython",
    "version": 3
   },
   "file_extension": ".py",
   "mimetype": "text/x-python",
   "name": "python",
   "nbconvert_exporter": "python",
   "pygments_lexer": "ipython3",
   "version": "3.8.8"
  }
 },
 "nbformat": 4,
 "nbformat_minor": 5
}
